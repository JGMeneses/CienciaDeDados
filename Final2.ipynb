{
 "cells": [
  {
   "cell_type": "markdown",
   "metadata": {},
   "source": [
    "Para decidir o numero do sorteio é no final do codigo."
   ]
  },
  {
   "cell_type": "code",
   "execution_count": 74,
   "metadata": {},
   "outputs": [
    {
     "name": "stdout",
     "output_type": "stream",
     "text": [
      "Informações salvas em 'informacoes_concurso.csv'.\n"
     ]
    }
   ],
   "source": [
    "import requests\n",
    "from bs4 import BeautifulSoup as soup\n",
    "import pandas as pd\n",
    "\n",
    "# Função para buscar informações sobre um concurso da Mega-Sena e salvar em um arquivo CSV\n",
    "def obter_informacoes_concurso_e_salvar_csv(numero_do_concurso):\n",
    "    # URL da página que você deseja raspar\n",
    "    url = f'https://www.loteriaseresultados.com.br/megasena/resultado/{numero_do_concurso}'\n",
    "    html = requests.get(url).text\n",
    "    soupPage = soup(html, 'lxml')\n",
    "\n",
    "    # Encontre todas as tags \"span\" com a classe específica que contém os números das bolas\n",
    "    spanList = soupPage.findAll(\"span\", class_=\"white--text font-weight-bold\")\n",
    "\n",
    "    # Criar uma lista para armazenar os números das bolas sorteadas\n",
    "    numeros_bolas = []\n",
    "\n",
    "    # Iterar sobre as bolas e extrair os números\n",
    "    for i in spanList:\n",
    "        numero = i.text.strip()\n",
    "        numeros_bolas.append(numero)\n",
    "\n",
    "    # Juntar os números em uma única string separada por ponto e vírgula\n",
    "    bolas_sorteadas = ';'.join(numeros_bolas)\n",
    "\n",
    "    # Carregar o DataFrame a partir do arquivo Excel\n",
    "    df = pd.read_excel('Mega-Sena.xlsx')\n",
    "\n",
    "    # Filtrar o DataFrame para encontrar o concurso desejado\n",
    "    concurso_desejado = df[df['Concurso'] == numero_do_concurso]\n",
    "\n",
    "    if not concurso_desejado.empty:\n",
    "        # Acessar as informações do concurso desejado\n",
    "        informacoes_do_concurso = concurso_desejado.iloc[0]\n",
    "        ganhadores_6_acertos = informacoes_do_concurso['Ganhadores 6 acertos']\n",
    "        cidade_uf = informacoes_do_concurso['Cidade / UF']\n",
    "        rateio_6_acertos = informacoes_do_concurso['Rateio 6 acertos']\n",
    "        acumulado_6_acertos = informacoes_do_concurso['Acumulado 6 acertos']\n",
    "\n",
    "        # Criar um dicionário com as informações\n",
    "        dados_concurso = {\n",
    "            \"Concurso\": numero_do_concurso,\n",
    "            \"Bolas Sorteadas\": bolas_sorteadas,\n",
    "            \"6 acertos\": ganhadores_6_acertos,\n",
    "            \"Cidade / UF\": cidade_uf,\n",
    "            \"Rateio 6 acertos\": rateio_6_acertos,\n",
    "            \"Acumulado 6 acertos\": acumulado_6_acertos\n",
    "        }\n",
    "\n",
    "        # Criar um DataFrame a partir do dicionário\n",
    "        df_resultado = pd.DataFrame([dados_concurso])\n",
    "\n",
    "        # Salvar o DataFrame em um arquivo CSV\n",
    "        df_resultado.to_csv('informacoes_concurso.csv', index=False)\n",
    "        print(\"Informações salvas em 'informacoes_concurso.csv'.\")\n",
    "    else:\n",
    "        print(f\"Concurso {numero_do_concurso} não encontrado.\")\n",
    "\n",
    "# Número do concurso que você deseja buscar\n",
    "numero_do_concurso_desejado = 2601  # Substitua pelo número do concurso desejado\n",
    "\n",
    "# Chame a função para obter informações sobre o concurso e salvar em um arquivo CSV\n",
    "obter_informacoes_concurso_e_salvar_csv(numero_do_concurso_desejado)\n"
   ]
  }
 ],
 "metadata": {
  "kernelspec": {
   "display_name": "Python 3",
   "language": "python",
   "name": "python3"
  },
  "language_info": {
   "codemirror_mode": {
    "name": "ipython",
    "version": 3
   },
   "file_extension": ".py",
   "mimetype": "text/x-python",
   "name": "python",
   "nbconvert_exporter": "python",
   "pygments_lexer": "ipython3",
   "version": "3.10.11"
  },
  "orig_nbformat": 4
 },
 "nbformat": 4,
 "nbformat_minor": 2
}
